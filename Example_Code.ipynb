{
 "cells": [
  {
   "cell_type": "code",
   "execution_count": 3,
   "metadata": {},
   "outputs": [
    {
     "name": "stdout",
     "output_type": "stream",
     "text": [
      "Authenticated.\n"
     ]
    }
   ],
   "source": [
    "from googleapiclient.discovery import build\n",
    "import os.path\n",
    "import pickle\n",
    "\n",
    "SAMPLE_SPREADSHEET_ID = '1_hyrK6CMgeH4DXGF_boLJP27hdPfGo9tTt9PjFo-rmA'\n",
    "\n",
    "def init_sheet():\n",
    "\tsheet = None\n",
    "\tif os.path.exists('token.pickle'):\n",
    "\t\tcreds = None\n",
    "\t\twith open('token.pickle', 'rb') as token:\n",
    "\t\t\tcreds = pickle.load(token)\n",
    "\t\tservice = build('sheets', 'v4', credentials=creds)\n",
    "\t\t# Call the Sheets API\n",
    "\t\tsheet = service.spreadsheets()\n",
    "\t\tprint(\"Authenticated.\")\n",
    "\telse:\n",
    "\t\tprint(\"Did Not Login.\")\n",
    "\treturn sheet\n",
    "\n",
    "sheet = init_sheet()"
   ]
  },
  {
   "cell_type": "code",
   "execution_count": 10,
   "metadata": {
    "collapsed": true
   },
   "outputs": [],
   "source": [
    "SAMPLE_RANGE_NAME = \"'Master List (unscrubbed)'!3:6\"\n",
    "\n",
    "result = sheet.values().get(spreadsheetId=SAMPLE_SPREADSHEET_ID, range=SAMPLE_RANGE_NAME).execute()\n",
    "data = result.get('values', [])\n"
   ]
  },
  {
   "cell_type": "code",
   "execution_count": 11,
   "metadata": {},
   "outputs": [
    {
     "data": {
      "text/plain": [
       "['Joe',\n",
       " 'Acta Vascular Systems',\n",
       " 'http://www.actavascular.com',\n",
       " 'Acquired',\n",
       " 'Acta Vascular Systems, Inc., specializes in the development and distribution of innovative interventional neuroradiology (INR) devices. INR can be thought of as neurosurgery conducted via less-invasive techniques - totally through the vascular system of the patient. A wide variety of diseases can be treated in many different parts of the head and brain primarily those pathologies that are well vascularized or pathologies of the vascular system itself. Acquired by Nfocus Neuromedical, Inc.',\n",
       " 'Acquired',\n",
       " 'Nfocus Neuromedical',\n",
       " 'Devices/Equipment',\n",
       " 'Medical devices',\n",
       " 'Neurosurgery',\n",
       " '',\n",
       " '8/25/2010',\n",
       " 'Series A',\n",
       " '$1.50',\n",
       " '$0.00',\n",
       " '',\n",
       " '',\n",
       " 'San Francisco Bay Area, Silicon Valley, West Coast',\n",
       " '',\n",
       " '',\n",
       " '',\n",
       " '',\n",
       " \"['brain 1', 'brain 2 small', 'mental health', 'neuroscience', 'sleep']\",\n",
       " '',\n",
       " 'crunchbase700']"
      ]
     },
     "execution_count": 11,
     "metadata": {},
     "output_type": "execute_result"
    }
   ],
   "source": [
    "data[0]"
   ]
  },
  {
   "cell_type": "code",
   "execution_count": 32,
   "metadata": {},
   "outputs": [],
   "source": [
    "sheet_name = \"'Master List (unscrubbed)'!\"\n",
    "range_names = [\n",
    "    sheet_name+\"3:6\",\n",
    "    sheet_name+\"8:10\",\n",
    "]\n",
    "result = sheet.values().batchGet(\n",
    "    spreadsheetId=SAMPLE_SPREADSHEET_ID, ranges=range_names).execute()"
   ]
  },
  {
   "cell_type": "code",
   "execution_count": 29,
   "metadata": {
    "scrolled": true
   },
   "outputs": [
    {
     "data": {
      "text/plain": [
       "{'majorDimension': 'ROWS',\n",
       " 'range': \"'Master List (unscrubbed)'!A3:AD6\",\n",
       " 'values': [['Joe',\n",
       "   'Acta Vascular Systems',\n",
       "   'http://www.actavascular.com',\n",
       "   'Acquired',\n",
       "   'Acta Vascular Systems, Inc., specializes in the development and distribution of innovative interventional neuroradiology (INR) devices. INR can be thought of as neurosurgery conducted via less-invasive techniques - totally through the vascular system of the patient. A wide variety of diseases can be treated in many different parts of the head and brain primarily those pathologies that are well vascularized or pathologies of the vascular system itself. Acquired by Nfocus Neuromedical, Inc.',\n",
       "   'Acquired',\n",
       "   'Nfocus Neuromedical',\n",
       "   'Devices/Equipment',\n",
       "   'Medical devices',\n",
       "   'Neurosurgery',\n",
       "   '',\n",
       "   '8/25/2010',\n",
       "   'Series A',\n",
       "   '$1.50',\n",
       "   '$0.00',\n",
       "   '',\n",
       "   '',\n",
       "   'San Francisco Bay Area, Silicon Valley, West Coast',\n",
       "   '',\n",
       "   '',\n",
       "   '',\n",
       "   '',\n",
       "   \"['brain 1', 'brain 2 small', 'mental health', 'neuroscience', 'sleep']\",\n",
       "   '',\n",
       "   'crunchbase700'],\n",
       "  ['Joe',\n",
       "   'Affinity Healthcare',\n",
       "   'http://www.affinityplan.org/',\n",
       "   'Acquired',\n",
       "   'Affinity Healthcare is a regional provider of mental health services.',\n",
       "   'Seed',\n",
       "   'Priory Group',\n",
       "   '',\n",
       "   '',\n",
       "   '',\n",
       "   '',\n",
       "   '',\n",
       "   '',\n",
       "   '$0.00',\n",
       "   '$0.00',\n",
       "   '',\n",
       "   '',\n",
       "   'European Union (EU)',\n",
       "   '',\n",
       "   '',\n",
       "   '',\n",
       "   '',\n",
       "   \"['mental health', 'neuroscience', 'sleep']\",\n",
       "   '',\n",
       "   'crunchbase700'],\n",
       "  ['Joe',\n",
       "   'Athena Neurosciences',\n",
       "   'n/a',\n",
       "   'Acquired',\n",
       "   'Athena Neurosciences developed products to treat neurological diseases. ',\n",
       "   'Acquired',\n",
       "   'Elan Pharma',\n",
       "   'Pharmaceuticals/Drugs',\n",
       "   '',\n",
       "   '',\n",
       "   '',\n",
       "   '',\n",
       "   '',\n",
       "   '',\n",
       "   '',\n",
       "   '',\n",
       "   '',\n",
       "   'Dublin, Dublin, Ireland',\n",
       "   'Larry Bock, Lawrence Fritz',\n",
       "   '',\n",
       "   '',\n",
       "   '',\n",
       "   '',\n",
       "   '',\n",
       "   'crunchbase700'],\n",
       "  ['Joe',\n",
       "   'Bonti',\n",
       "   'n/a',\n",
       "   'Acquired',\n",
       "   'Endurance Biotech is a biotechnology company based in Orange, California.',\n",
       "   'Acquired',\n",
       "   'City Hill Ventures, Colt Ventures, RBV Capital, Allegran',\n",
       "   'Pharmaceuticals/Drugs',\n",
       "   '',\n",
       "   '',\n",
       "   '',\n",
       "   '1/23/2018',\n",
       "   'Series C',\n",
       "   '$15.50 ',\n",
       "   '$36.14 ',\n",
       "   'City Hill Ventures, Colt Ventures, RBV Capital',\n",
       "   '',\n",
       "   'Newport Beach, California, United States',\n",
       "   'Fauad Hasan, Mike Jarpe, Susan Abushakra, Wajdie Ahmad',\n",
       "   '',\n",
       "   '',\n",
       "   '',\n",
       "   '',\n",
       "   '',\n",
       "   'crunchbase700']]}"
      ]
     },
     "execution_count": 29,
     "metadata": {},
     "output_type": "execute_result"
    }
   ],
   "source": [
    "result.get('valueRanges')[0]"
   ]
  },
  {
   "cell_type": "code",
   "execution_count": 31,
   "metadata": {
    "scrolled": true
   },
   "outputs": [
    {
     "data": {
      "text/plain": [
       "{'majorDimension': 'ROWS',\n",
       " 'range': \"'Master List (unscrubbed)'!A8:AD10\",\n",
       " 'values': [['Abe',\n",
       "   'Christchurch Group',\n",
       "   'https://www.christchurchgroup.co.uk/',\n",
       "   'Acquired',\n",
       "   'Christchurch Group provides neurological rehabilitation services for adults with neurological conditions as a result of injury, disease.',\n",
       "   'Established',\n",
       "   '',\n",
       "   'Behavioral Health and Wellness',\n",
       "   'Mental Health',\n",
       "   '',\n",
       "   '',\n",
       "   '',\n",
       "   '',\n",
       "   '$0.00',\n",
       "   '$0.00',\n",
       "   '',\n",
       "   '',\n",
       "   'European Union (EU)',\n",
       "   '',\n",
       "   'referrals@christchurchgroup.co.uk',\n",
       "   '',\n",
       "   '',\n",
       "   \"['brain 1', 'brain 2 small', 'mental health', 'neuroscience', 'sleep']\",\n",
       "   '',\n",
       "   'crunchbase700'],\n",
       "  ['Abe',\n",
       "   'Civitas Solutions',\n",
       "   'http://civitas-solutions.com/',\n",
       "   'Acquired',\n",
       "   'Civitas Solutions, Inc., which markets its services nationally as The MENTOR Network',\n",
       "   'Established',\n",
       "   '',\n",
       "   'Behavioral Health and Wellness',\n",
       "   'Mental Health',\n",
       "   '',\n",
       "   '',\n",
       "   '',\n",
       "   '',\n",
       "   '$0.00',\n",
       "   '$0.00',\n",
       "   '',\n",
       "   '',\n",
       "   'Greater Boston Area, East Coast, New England',\n",
       "   '',\n",
       "   '',\n",
       "   '',\n",
       "   '',\n",
       "   \"['brain 1', 'brain 2 small', 'mental health', 'neuroscience', 'sleep']\",\n",
       "   '',\n",
       "   'crunchbase700'],\n",
       "  ['Abe',\n",
       "   'Claret Medical',\n",
       "   'http://claretmedical.com',\n",
       "   'Acquired',\n",
       "   'Claret Medical develops cerebral vascular protection systems for Transcatheter Aortic Valve Implantation (TAVI) and other procedures.',\n",
       "   'SMB',\n",
       "   'Easton Capital, HealthCor Partners, Incept LLC, Lightstone Ventures, Sante Ventures',\n",
       "   'Devices/Equipment',\n",
       "   'Medical devices',\n",
       "   '',\n",
       "   '',\n",
       "   '10/23/17',\n",
       "   'Series C',\n",
       "   '$14.50',\n",
       "   '$41.20',\n",
       "   '',\n",
       "   '',\n",
       "   'San Francisco Bay Area, West Coast, Western US',\n",
       "   'Randy Lashinski',\n",
       "   'info@claretmedical.com',\n",
       "   '',\n",
       "   '',\n",
       "   \"['brain 1', 'brain 2 small', 'dementia', 'meditation', 'mental health', 'neuro', 'neuroscience', 'sleep']\",\n",
       "   '',\n",
       "   'crunchbase700']]}"
      ]
     },
     "execution_count": 31,
     "metadata": {},
     "output_type": "execute_result"
    }
   ],
   "source": [
    "result.get('valueRanges')[1]"
   ]
  },
  {
   "cell_type": "code",
   "execution_count": null,
   "metadata": {
    "collapsed": true
   },
   "outputs": [],
   "source": []
  }
 ],
 "metadata": {
  "kernelspec": {
   "display_name": "Python 3",
   "language": "python",
   "name": "python3"
  },
  "language_info": {
   "codemirror_mode": {
    "name": "ipython",
    "version": 3
   },
   "file_extension": ".py",
   "mimetype": "text/x-python",
   "name": "python",
   "nbconvert_exporter": "python",
   "pygments_lexer": "ipython3",
   "version": "3.7.3"
  }
 },
 "nbformat": 4,
 "nbformat_minor": 2
}
