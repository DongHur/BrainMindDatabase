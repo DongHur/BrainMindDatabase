{
 "cells": [
  {
   "cell_type": "code",
   "execution_count": 52,
   "metadata": {
    "collapsed": true
   },
   "outputs": [],
   "source": [
    "import numpy as np\n",
    "from collections import Counter\n",
    "import matplotlib\n",
    "import matplotlib.pyplot as plt\n",
    "import plotly.plotly as py\n",
    "import plotly.graph_objs as go\n",
    "\n",
    "from googleapiclient.discovery import build\n",
    "import os.path\n",
    "import pickle\n",
    "\n",
    "SAMPLE_SPREADSHEET_ID = '1ofLL4H3I1vRfIbhWCcxvaYbcbK2yHxJkxkNzJnxSrsE'"
   ]
  },
  {
   "cell_type": "code",
   "execution_count": 53,
   "metadata": {},
   "outputs": [
    {
     "name": "stdout",
     "output_type": "stream",
     "text": [
      "Authenticated.\n"
     ]
    }
   ],
   "source": [
    "\n",
    "sheet = None\n",
    "if os.path.exists('token.pickle'):\n",
    "    creds = None\n",
    "    with open('token.pickle', 'rb') as token:\n",
    "        creds = pickle.load(token)\n",
    "    service = build('sheets', 'v4', credentials=creds)\n",
    "    # Call the Sheets API\n",
    "    sheet = service.spreadsheets()\n",
    "    print(\"Authenticated.\")\n",
    "else:\n",
    "    print(\"Did Not Login.\")\n"
   ]
  },
  {
   "cell_type": "code",
   "execution_count": 54,
   "metadata": {
    "collapsed": true
   },
   "outputs": [],
   "source": [
    "sheet_name = \"'By Alphabetical Order'!\"\n",
    "range_names = [\n",
    "    sheet_name+\"A:A\",\n",
    "    sheet_name+\"A:A\",\n",
    "]\n",
    "result = sheet.values().batchGet(\n",
    "    spreadsheetId=SAMPLE_SPREADSHEET_ID, ranges=range_names).execute()"
   ]
  },
  {
   "cell_type": "code",
   "execution_count": 55,
   "metadata": {
    "collapsed": true
   },
   "outputs": [],
   "source": [
    "data = np.array(result.get('valueRanges')[0]['values']).squeeze()\n",
    "\n",
    "filtered_data = []\n",
    "for idx, entry in enumerate(data):\n",
    "    entry_mod = ['','','']\n",
    "    # INFO 1\n",
    "    info_array_1 = entry.split('(', 1)\n",
    "    entry_mod[0] = info_array_1[0]\n",
    "    # INFO 1 + 2\n",
    "    info_array_2 = info_array_1[1].split(')', 1)\n",
    "    entry_mod[1] = info_array_2[0]\n",
    "    entry_mod[2] = info_array_2[1]\n",
    "    # ADD DATA\n",
    "    filtered_data.extend([entry_mod])\n",
    "filtered_data = np.array(filtered_data)"
   ]
  },
  {
   "cell_type": "code",
   "execution_count": 63,
   "metadata": {
    "collapsed": true
   },
   "outputs": [],
   "source": [
    "values = [\n",
    "    filtered_data[:,0].tolist(),\n",
    "    filtered_data[:,1].tolist(),\n",
    "    filtered_data[:,2].tolist()\n",
    "]\n",
    "body = {\n",
    "    \"range\": \"'By Alphabetical Order'!B:D\",\n",
    "    'values': values,\n",
    "    'majorDimension': 'COLUMNS'\n",
    "}\n",
    "result = service.spreadsheets().values().update(\n",
    "    spreadsheetId=SAMPLE_SPREADSHEET_ID, range=sheet_name+\"B:D\",\n",
    "     valueInputOption= \"RAW\", body=body).execute()"
   ]
  },
  {
   "cell_type": "code",
   "execution_count": null,
   "metadata": {
    "collapsed": true
   },
   "outputs": [],
   "source": []
  }
 ],
 "metadata": {
  "kernelspec": {
   "display_name": "Python 3",
   "language": "python",
   "name": "python3"
  },
  "language_info": {
   "codemirror_mode": {
    "name": "ipython",
    "version": 3
   },
   "file_extension": ".py",
   "mimetype": "text/x-python",
   "name": "python",
   "nbconvert_exporter": "python",
   "pygments_lexer": "ipython3",
   "version": "3.7.3"
  }
 },
 "nbformat": 4,
 "nbformat_minor": 2
}
