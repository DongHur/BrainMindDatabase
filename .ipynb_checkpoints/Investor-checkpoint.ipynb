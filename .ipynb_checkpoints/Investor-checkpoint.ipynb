{
 "cells": [
  {
   "cell_type": "code",
   "execution_count": 1,
   "metadata": {
    "collapsed": true
   },
   "outputs": [],
   "source": [
    "import numpy as np\n",
    "from collections import Counter\n",
    "import matplotlib\n",
    "import matplotlib.pyplot as plt\n",
    "import plotly.plotly as py\n",
    "import plotly.graph_objs as go"
   ]
  },
  {
   "cell_type": "code",
   "execution_count": 2,
   "metadata": {},
   "outputs": [
    {
     "name": "stdout",
     "output_type": "stream",
     "text": [
      "Authenticated.\n"
     ]
    }
   ],
   "source": [
    "from googleapiclient.discovery import build\n",
    "import os.path\n",
    "import pickle\n",
    "\n",
    "SAMPLE_SPREADSHEET_ID = '1_hyrK6CMgeH4DXGF_boLJP27hdPfGo9tTt9PjFo-rmA'\n",
    "\n",
    "def init_sheet():\n",
    "\tsheet = None\n",
    "\tif os.path.exists('token.pickle'):\n",
    "\t\tcreds = None\n",
    "\t\twith open('token.pickle', 'rb') as token:\n",
    "\t\t\tcreds = pickle.load(token)\n",
    "\t\tservice = build('sheets', 'v4', credentials=creds)\n",
    "\t\t# Call the Sheets API\n",
    "\t\tsheet = service.spreadsheets()\n",
    "\t\tprint(\"Authenticated.\")\n",
    "\telse:\n",
    "\t\tprint(\"Did Not Login.\")\n",
    "\treturn sheet\n",
    "\n",
    "sheet = init_sheet()"
   ]
  },
  {
   "cell_type": "code",
   "execution_count": 3,
   "metadata": {
    "collapsed": true
   },
   "outputs": [],
   "source": [
    "sheet_name = \"'Master List (unscrubbed)'!\"\n",
    "range_names = [\n",
    "    sheet_name+\"B3:B\",\n",
    "    sheet_name+\"G3:G\",\n",
    "]\n",
    "result = sheet.values().batchGet(\n",
    "    spreadsheetId=SAMPLE_SPREADSHEET_ID, ranges=range_names).execute()"
   ]
  },
  {
   "cell_type": "code",
   "execution_count": 4,
   "metadata": {
    "collapsed": true
   },
   "outputs": [],
   "source": [
    "data = result.get('valueRanges')\n",
    "\n",
    "company = data[0]['values']\n",
    "investor = data[1]['values']"
   ]
  },
  {
   "cell_type": "code",
   "execution_count": 5,
   "metadata": {
    "collapsed": true
   },
   "outputs": [],
   "source": [
    "invest_sq = np.array([y for x in investor for y in x])"
   ]
  },
  {
   "cell_type": "code",
   "execution_count": 6,
   "metadata": {
    "collapsed": true
   },
   "outputs": [],
   "source": [
    "invest_clean = []\n",
    "for investors in invest_sq:\n",
    "    for investor in investors.split(','):\n",
    "        invest = investor.strip()\n",
    "        if invest:\n",
    "            invest_clean.extend([invest])\n",
    "invest_count = np.array([[x,invest_clean.count(x)] for x in set(invest_clean)])\n",
    "invest_count_num = np.array([int(i) for i in invest_count[:,1]])\n",
    "invest_count_name = invest_count[:,0]\n",
    "invest_len = invest_count.shape[0]"
   ]
  },
  {
   "cell_type": "markdown",
   "metadata": {},
   "source": [
    "# Number of Investors"
   ]
  },
  {
   "cell_type": "code",
   "execution_count": 14,
   "metadata": {},
   "outputs": [
    {
     "data": {
      "text/html": [
       "<iframe id=\"igraph\" scrolling=\"no\" style=\"border:none;\" seamless=\"seamless\" src=\"https://plot.ly/~dhur/22.embed\" height=\"525px\" width=\"100%\"></iframe>"
      ],
      "text/plain": [
       "<chart_studio.tools.PlotlyDisplay object>"
      ]
     },
     "execution_count": 14,
     "metadata": {},
     "output_type": "execute_result"
    }
   ],
   "source": [
    "trace = go.Histogram(x=invest_count_num)\n",
    "data = [trace]\n",
    "layout = go.Layout(\n",
    "    title=\"Count of Number of Investors per Company\",\n",
    "    yaxis=dict(title=\"Number of Companies\"),\n",
    "    xaxis=dict(title=\"Number of Investors\")\n",
    ")\n",
    "fig = go.Figure(data=data, layout=layout)\n",
    "py.iplot(fig, filename=\"Count of Investors\")"
   ]
  },
  {
   "cell_type": "markdown",
   "metadata": {},
   "source": [
    "# All Companies"
   ]
  },
  {
   "cell_type": "code",
   "execution_count": 9,
   "metadata": {},
   "outputs": [
    {
     "data": {
      "text/html": [
       "<iframe id=\"igraph\" scrolling=\"no\" style=\"border:none;\" seamless=\"seamless\" src=\"https://plot.ly/~dhur/20.embed\" height=\"525px\" width=\"100%\"></iframe>"
      ],
      "text/plain": [
       "<chart_studio.tools.PlotlyDisplay object>"
      ]
     },
     "execution_count": 9,
     "metadata": {},
     "output_type": "execute_result"
    }
   ],
   "source": [
    "trace = go.Bar(\n",
    "    x=np.arange(invest_len),\n",
    "    y=invest_count_num,\n",
    "    text=invest_count_name\n",
    ")\n",
    "data = [trace]\n",
    "layout = go.Layout(\n",
    "    title =\"Number of Neuro Companies Invested for All Investors\",\n",
    "    yaxis=dict(title=\"Number Neuro Companies\")\n",
    ")\n",
    "\n",
    "fig = go.Figure(data=data, layout=layout)\n",
    "py.iplot(fig, filename='All Companies')"
   ]
  },
  {
   "cell_type": "markdown",
   "metadata": {},
   "source": [
    "<h1> Top 20 Companies </h1>"
   ]
  },
  {
   "cell_type": "code",
   "execution_count": 19,
   "metadata": {},
   "outputs": [
    {
     "data": {
      "text/html": [
       "<iframe id=\"igraph\" scrolling=\"no\" style=\"border:none;\" seamless=\"seamless\" src=\"https://plot.ly/~dhur/24.embed\" height=\"525px\" width=\"100%\"></iframe>"
      ],
      "text/plain": [
       "<chart_studio.tools.PlotlyDisplay object>"
      ]
     },
     "execution_count": 19,
     "metadata": {},
     "output_type": "execute_result"
    }
   ],
   "source": [
    "inv_greater_20_idx = np.where(invest_count_num>4)[0]\n",
    "\n",
    "trace = go.Bar(\n",
    "            x=invest_count_name[inv_greater_20_idx],\n",
    "            y=invest_count_num[inv_greater_20_idx]\n",
    "        )\n",
    "data = [trace]\n",
    "layout = go.Layout(\n",
    "    title =\"Number of Neuro Companies Invested for Top 20 Investor\",\n",
    "    yaxis=dict(title=\"Number Neuro Companies\")\n",
    ")\n",
    "\n",
    "fig = go.Figure(data=data, layout=layout)\n",
    "py.iplot(fig, filename='Top 20 Companies')"
   ]
  },
  {
   "cell_type": "markdown",
   "metadata": {},
   "source": [
    "1) 1st 20 companies\n",
    "2) histogram with all of 900 investors\n",
    "3) "
   ]
  },
  {
   "cell_type": "code",
   "execution_count": null,
   "metadata": {
    "collapsed": true
   },
   "outputs": [],
   "source": []
  }
 ],
 "metadata": {
  "kernelspec": {
   "display_name": "Python 3",
   "language": "python",
   "name": "python3"
  },
  "language_info": {
   "codemirror_mode": {
    "name": "ipython",
    "version": 3
   },
   "file_extension": ".py",
   "mimetype": "text/x-python",
   "name": "python",
   "nbconvert_exporter": "python",
   "pygments_lexer": "ipython3",
   "version": "3.6.1"
  }
 },
 "nbformat": 4,
 "nbformat_minor": 2
}
