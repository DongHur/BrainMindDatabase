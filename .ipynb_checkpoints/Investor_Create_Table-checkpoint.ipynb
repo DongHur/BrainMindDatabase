{
 "cells": [
  {
   "cell_type": "code",
   "execution_count": 113,
   "metadata": {},
   "outputs": [],
   "source": [
    "import numpy as np\n",
    "from collections import Counter\n",
    "import matplotlib\n",
    "import matplotlib.pyplot as plt\n",
    "import plotly.plotly as py\n",
    "import plotly.graph_objs as go\n",
    "from tqdm import tqdm_notebook"
   ]
  },
  {
   "cell_type": "code",
   "execution_count": 5,
   "metadata": {},
   "outputs": [
    {
     "name": "stdout",
     "output_type": "stream",
     "text": [
      "Authenticated.\n"
     ]
    }
   ],
   "source": [
    "from googleapiclient.discovery import build\n",
    "import os.path\n",
    "import pickle\n",
    "\n",
    "SAMPLE_SPREADSHEET_ID = '1tRTmQ7693owCou_S3jT0KoMH9lEZ46SiZCShyq-QCHQ'\n",
    "\n",
    "def init_sheet():\n",
    "\tsheet = None\n",
    "\tif os.path.exists('token.pickle'):\n",
    "\t\tcreds = None\n",
    "\t\twith open('token.pickle', 'rb') as token:\n",
    "\t\t\tcreds = pickle.load(token)\n",
    "\t\tservice = build('sheets', 'v4', credentials=creds)\n",
    "\t\t# Call the Sheets API\n",
    "\t\tsheet = service.spreadsheets()\n",
    "\t\tprint(\"Authenticated.\")\n",
    "\telse:\n",
    "\t\tprint(\"Did Not Login.\")\n",
    "\treturn sheet\n",
    "\n",
    "sheet = init_sheet()"
   ]
  },
  {
   "cell_type": "code",
   "execution_count": 62,
   "metadata": {},
   "outputs": [],
   "source": [
    "sheet_name = \"Masterlist!\"\n",
    "range_names = [\n",
    "    sheet_name+\"A4:A\",\n",
    "    sheet_name+\"F4:F\",\n",
    "    sheet_name+\"Q4:Q\"\n",
    "]\n",
    "result = sheet.values().batchGet(\n",
    "    spreadsheetId=SAMPLE_SPREADSHEET_ID, ranges=range_names).execute()"
   ]
  },
  {
   "cell_type": "code",
   "execution_count": 63,
   "metadata": {},
   "outputs": [],
   "source": [
    "data = result.get('valueRanges')\n",
    "\n",
    "company = data[0]['values']\n",
    "investor = data[1]['values']\n",
    "coinvestor = data[2]['values']\n",
    "# TAKES OUT EMPTY CELLS & ELIMINATES A DIMENSION\n",
    "invest_sq = np.array([y for x in investor for y in x])\n",
    "coinvestor_sq = np.array([y for x in coinvestor for y in x])\n",
    "\n",
    "invest_total = np.append(invest_sq, coinvestor_sq)"
   ]
  },
  {
   "cell_type": "code",
   "execution_count": 126,
   "metadata": {
    "scrolled": true
   },
   "outputs": [
    {
     "data": {
      "text/plain": [
       "'.406 Ventures, BlueCross BlueShield Venture Partners, HLM Venture Partners, Sandbox Industries'"
      ]
     },
     "execution_count": 126,
     "metadata": {},
     "output_type": "execute_result"
    }
   ],
   "source": [
    "coinvestor[2][0]"
   ]
  },
  {
   "cell_type": "code",
   "execution_count": 47,
   "metadata": {},
   "outputs": [],
   "source": [
    "invest_clean = []\n",
    "for investors in invest_total:\n",
    "    for investor in investors.split(','):\n",
    "        invest = investor.strip()\n",
    "        if invest:\n",
    "            invest_clean.extend([invest])\n",
    "invest_count = np.array([[x,invest_clean.count(x)] for x in set(invest_clean)])\n",
    "# TAKE OUT N/A\n",
    "na_idx = np.where(invest_count[:,0]=='n/a')\n",
    "invest_count = np.delete(invest_count, na_idx, axis=0)\n",
    "\n",
    "# SEPARATE DATA INTO TWO INVESTORS & COUNTS\n",
    "invest_count_num = np.array([int(i) for i in invest_count[:,1]])\n",
    "invest_count_name = invest_count[:,0]\n",
    "invest_len = invest_count.shape[0]\n",
    "\n"
   ]
  },
  {
   "cell_type": "markdown",
   "metadata": {},
   "source": [
    "# Create Investor Table"
   ]
  },
  {
   "cell_type": "code",
   "execution_count": 92,
   "metadata": {},
   "outputs": [
    {
     "data": {
      "text/plain": [
       "['.406 Ventures',\n",
       " 'BlueCross BlueShield Venture Partners',\n",
       " 'HLM Venture Partners',\n",
       " 'Sandbox Industries']"
      ]
     },
     "execution_count": 92,
     "metadata": {},
     "output_type": "execute_result"
    }
   ],
   "source": [
    "list(map(str.strip, investor[2][0].split(',')))"
   ]
  },
  {
   "cell_type": "code",
   "execution_count": 118,
   "metadata": {},
   "outputs": [
    {
     "data": {
      "text/plain": [
       "['Swiss Government']"
      ]
     },
     "execution_count": 118,
     "metadata": {},
     "output_type": "execute_result"
    }
   ],
   "source": [
    "list(map(str.strip, investor[0][0].split(',')))"
   ]
  },
  {
   "cell_type": "code",
   "execution_count": 172,
   "metadata": {},
   "outputs": [
    {
     "data": {
      "application/vnd.jupyter.widget-view+json": {
       "model_id": "4e41ad6aa453469395c0503d96c489db",
       "version_major": 2,
       "version_minor": 0
      },
      "text/plain": [
       "HBox(children=(IntProgress(value=0, max=954), HTML(value='')))"
      ]
     },
     "metadata": {},
     "output_type": "display_data"
    },
    {
     "name": "stdout",
     "output_type": "stream",
     "text": [
      "\n"
     ]
    }
   ],
   "source": [
    "data = {}\n",
    "for investor_idx, investor_name in enumerate(tqdm_notebook(invest_count_name)):\n",
    "    investor_row = []\n",
    "    for company_idx, company_name in enumerate(company):\n",
    "        # INVESTOR SEARCH\n",
    "        list_investor_comp = list(map(str.strip, investor[company_idx][0].split(',')))\n",
    "        for investor_comp in list_investor_comp:\n",
    "            if investor_comp == investor_name:\n",
    "                investor_row = np.append(investor_row, [company_name[0]])\n",
    "        # COINVESTOR SEARCH\n",
    "        if(coinvestor[company_idx]):\n",
    "            list_coinvestor_comp = list(map(str.strip, coinvestor[company_idx][0].split(',')))\n",
    "            for coinvestor_comp in list_coinvestor_comp:\n",
    "                if coinvestor_comp == investor_name:\n",
    "                    investor_row = np.append(investor_row, [company_name[0]])\n",
    "    data[investor_name] = investor_row"
   ]
  },
  {
   "cell_type": "code",
   "execution_count": 189,
   "metadata": {},
   "outputs": [
    {
     "data": {
      "text/plain": [
       "array(['Quantib'], dtype='<U32')"
      ]
     },
     "execution_count": 189,
     "metadata": {},
     "output_type": "execute_result"
    }
   ],
   "source": [
    "list(data.values())[0]"
   ]
  },
  {
   "cell_type": "code",
   "execution_count": 231,
   "metadata": {
    "scrolled": true
   },
   "outputs": [
    {
     "name": "stdout",
     "output_type": "stream",
     "text": [
      "On step:  0\n",
      "On step:  1\n",
      "On step:  2\n",
      "On step:  3\n",
      "On step:  4\n",
      "On step:  5\n",
      "On step:  6\n",
      "On step:  7\n",
      "On step:  8\n",
      "On step:  9\n",
      "On step:  10\n",
      "On step:  11\n",
      "On step:  12\n",
      "On step:  13\n",
      "On step:  14\n",
      "On step:  15\n",
      "On step:  16\n",
      "On step:  17\n",
      "On step:  18\n",
      "On step:  19\n",
      "On step:  20\n",
      "On step:  21\n",
      "On step:  22\n",
      "On step:  23\n",
      "On step:  24\n",
      "On step:  25\n",
      "On step:  26\n",
      "On step:  27\n",
      "On step:  28\n",
      "On step:  29\n",
      "On step:  30\n",
      "On step:  31\n",
      "On step:  32\n",
      "On step:  33\n",
      "On step:  34\n",
      "On step:  35\n",
      "On step:  36\n",
      "On step:  37\n",
      "On step:  38\n",
      "On step:  39\n",
      "On step:  40\n",
      "On step:  41\n",
      "On step:  42\n",
      "On step:  43\n",
      "On step:  44\n"
     ]
    }
   ],
   "source": [
    "# INVESTOR COLUMNS\n",
    "sheet_name = \"Investor\"\n",
    "body = {\n",
    "    \"range\": \"Investor\",\n",
    "    'values': [list(data.keys())],\n",
    "    'majorDimension': 'COLUMNS'\n",
    "}\n",
    "result = sheet.values().append(\n",
    "    spreadsheetId=SAMPLE_SPREADSHEET_ID, range=sheet_name,\n",
    "     valueInputOption= \"RAW\", body=body).execute()\n",
    "\n",
    "# COMPANIES COLUMNS\n",
    "i = 0\n",
    "present = True\n",
    "while present:\n",
    "    print(\"On step: \", i)\n",
    "    present = False\n",
    "    col = []\n",
    "    for invest_list in list(data.values()):\n",
    "        try:\n",
    "            if(invest_list[i]):\n",
    "                col = np.append(col, invest_list[i])\n",
    "                present = True\n",
    "        except:\n",
    "            col = np.append(col, \"\")\n",
    "            pass\n",
    "    if(present):\n",
    "        try:\n",
    "            letter = chr(i+1+97)\n",
    "            body = {\n",
    "                \"range\": \"Investor!\"+letter+\":\"+letter,\n",
    "                'values': [col.tolist()],\n",
    "                \"majorDimension\":'COLUMNS'\n",
    "            }\n",
    "            result = sheet.values().update(\n",
    "            spreadsheetId=SAMPLE_SPREADSHEET_ID, range=sheet_name+\"!\"+letter+\":\"+letter,\n",
    "             valueInputOption= \"RAW\", body=body).execute()\n",
    "        except:\n",
    "            letter = chr(i-25+97)\n",
    "            body = {\n",
    "                \"range\": \"Investor!a\"+letter+\":a\"+letter,\n",
    "                'values': [col.tolist()],\n",
    "                \"majorDimension\":'COLUMNS'\n",
    "            }\n",
    "            result = sheet.values().update(\n",
    "            spreadsheetId=SAMPLE_SPREADSHEET_ID, range=sheet_name+\"!a\"+letter+\":a\"+letter,\n",
    "             valueInputOption= \"RAW\", body=body).execute()\n",
    "        \n",
    "        \n",
    "    i += 1\n"
   ]
  },
  {
   "cell_type": "code",
   "execution_count": 229,
   "metadata": {},
   "outputs": [
    {
     "data": {
      "text/plain": [
       "'{'"
      ]
     },
     "execution_count": 229,
     "metadata": {},
     "output_type": "execute_result"
    }
   ],
   "source": [
    "chr(25+98)"
   ]
  },
  {
   "cell_type": "code",
   "execution_count": 204,
   "metadata": {},
   "outputs": [
    {
     "data": {
      "text/plain": [
       "[]"
      ]
     },
     "execution_count": 204,
     "metadata": {},
     "output_type": "execute_result"
    }
   ],
   "source": [
    "col"
   ]
  },
  {
   "cell_type": "code",
   "execution_count": 148,
   "metadata": {},
   "outputs": [
    {
     "ename": "NameError",
     "evalue": "name 'service' is not defined",
     "output_type": "error",
     "traceback": [
      "\u001b[0;31m---------------------------------------------------------------------------\u001b[0m",
      "\u001b[0;31mNameError\u001b[0m                                 Traceback (most recent call last)",
      "\u001b[0;32m<ipython-input-148-b6c939ef27b0>\u001b[0m in \u001b[0;36m<module>\u001b[0;34m\u001b[0m\n\u001b[1;32m     14\u001b[0m     \u001b[0;34m'majorDimension'\u001b[0m\u001b[0;34m:\u001b[0m \u001b[0;34m'ROWS'\u001b[0m\u001b[0;34m\u001b[0m\u001b[0;34m\u001b[0m\u001b[0m\n\u001b[1;32m     15\u001b[0m }\n\u001b[0;32m---> 16\u001b[0;31m result = service.spreadsheets().values().append(\n\u001b[0m\u001b[1;32m     17\u001b[0m     \u001b[0mspreadsheetId\u001b[0m\u001b[0;34m=\u001b[0m\u001b[0mSAMPLE_SPREADSHEET_ID\u001b[0m\u001b[0;34m,\u001b[0m \u001b[0mrange\u001b[0m\u001b[0;34m=\u001b[0m\u001b[0msheet_name\u001b[0m\u001b[0;34m,\u001b[0m\u001b[0;34m\u001b[0m\u001b[0;34m\u001b[0m\u001b[0m\n\u001b[1;32m     18\u001b[0m      valueInputOption= \"RAW\", body=body).execute()\n",
      "\u001b[0;31mNameError\u001b[0m: name 'service' is not defined"
     ]
    }
   ],
   "source": [
    "sheet_name = \"Investor!\"\n",
    "# values = [\n",
    "#     filtered_data[:,0].tolist(), # TOTAL INVESTOR\n",
    "#     filtered_data[:,1].tolist(), # COMPANY ONE\n",
    "#     filtered_data[:,2].tolist() # COMPANY TWO\n",
    "# ]\n",
    "\n",
    "values = [\n",
    "    \n",
    "]\n",
    "body = {\n",
    "    \"range\": \"Investor!A:D\",\n",
    "    'values': values,\n",
    "    'majorDimension': 'ROWS'\n",
    "}\n",
    "result = service.spreadsheets().values().append(\n",
    "    spreadsheetId=SAMPLE_SPREADSHEET_ID, range=sheet_name,\n",
    "     valueInputOption= \"RAW\", body=body).execute()\n",
    "\n",
    "# result = service.spreadsheets().values().update(\n",
    "#     spreadsheetId=SAMPLE_SPREADSHEET_ID, range=sheet_name+\"A:D\",\n",
    "#      valueInputOption= \"RAW\", body=body).execute()"
   ]
  },
  {
   "cell_type": "markdown",
   "metadata": {},
   "source": [
    "# Number of Investors"
   ]
  },
  {
   "cell_type": "code",
   "execution_count": 50,
   "metadata": {},
   "outputs": [
    {
     "data": {
      "text/html": [
       "<iframe id=\"igraph\" scrolling=\"no\" style=\"border:none;\" seamless=\"seamless\" src=\"https://plot.ly/~dhur/22.embed\" height=\"525px\" width=\"100%\"></iframe>"
      ],
      "text/plain": [
       "<chart_studio.tools.PlotlyDisplay object>"
      ]
     },
     "execution_count": 50,
     "metadata": {},
     "output_type": "execute_result"
    }
   ],
   "source": [
    "trace = go.Histogram(x=invest_count_num)\n",
    "data = [trace]\n",
    "layout = go.Layout(\n",
    "    title=\"Count of Number of Investors per Company\",\n",
    "    yaxis=dict(title=\"Number of Companies\"),\n",
    "    xaxis=dict(title=\"Number of Investors\")\n",
    ")\n",
    "fig = go.Figure(data=data, layout=layout)\n",
    "py.iplot(fig, filename=\"Count of Investors\")"
   ]
  },
  {
   "cell_type": "markdown",
   "metadata": {},
   "source": [
    "# All Companies"
   ]
  },
  {
   "cell_type": "code",
   "execution_count": 51,
   "metadata": {},
   "outputs": [
    {
     "data": {
      "text/html": [
       "<iframe id=\"igraph\" scrolling=\"no\" style=\"border:none;\" seamless=\"seamless\" src=\"https://plot.ly/~dhur/20.embed\" height=\"525px\" width=\"100%\"></iframe>"
      ],
      "text/plain": [
       "<chart_studio.tools.PlotlyDisplay object>"
      ]
     },
     "execution_count": 51,
     "metadata": {},
     "output_type": "execute_result"
    }
   ],
   "source": [
    "trace = go.Bar(\n",
    "    x=np.arange(invest_len),\n",
    "    y=invest_count_num,\n",
    "    text=invest_count_name\n",
    ")\n",
    "data = [trace]\n",
    "layout = go.Layout(\n",
    "    title =\"Number of Neuro Companies Invested for All Investors\",\n",
    "    yaxis=dict(title=\"Number Neuro Companies\")\n",
    ")\n",
    "\n",
    "fig = go.Figure(data=data, layout=layout)\n",
    "py.iplot(fig, filename='All Companies')"
   ]
  },
  {
   "cell_type": "markdown",
   "metadata": {},
   "source": [
    "<h1> Top 20 Companies </h1>"
   ]
  },
  {
   "cell_type": "code",
   "execution_count": 52,
   "metadata": {},
   "outputs": [
    {
     "data": {
      "text/html": [
       "<iframe id=\"igraph\" scrolling=\"no\" style=\"border:none;\" seamless=\"seamless\" src=\"https://plot.ly/~dhur/24.embed\" height=\"525px\" width=\"100%\"></iframe>"
      ],
      "text/plain": [
       "<chart_studio.tools.PlotlyDisplay object>"
      ]
     },
     "execution_count": 52,
     "metadata": {},
     "output_type": "execute_result"
    }
   ],
   "source": [
    "inv_greater_20_idx = np.where(invest_count_num>4)[0]\n",
    "\n",
    "trace = go.Bar(\n",
    "            x=invest_count_name[inv_greater_20_idx],\n",
    "            y=invest_count_num[inv_greater_20_idx]\n",
    "        )\n",
    "data = [trace]\n",
    "layout = go.Layout(\n",
    "    title =\"Number of Neuro Companies Invested for Top 20 Investor\",\n",
    "    yaxis=dict(title=\"Number Neuro Companies\")\n",
    ")\n",
    "\n",
    "fig = go.Figure(data=data, layout=layout)\n",
    "py.iplot(fig, filename='Top 20 Companies')"
   ]
  },
  {
   "cell_type": "markdown",
   "metadata": {},
   "source": [
    "1) 1st 20 companies\n",
    "2) histogram with all of 900 investors\n",
    "3) "
   ]
  },
  {
   "cell_type": "code",
   "execution_count": null,
   "metadata": {
    "collapsed": true
   },
   "outputs": [],
   "source": []
  }
 ],
 "metadata": {
  "kernelspec": {
   "display_name": "Python 3",
   "language": "python",
   "name": "python3"
  },
  "language_info": {
   "codemirror_mode": {
    "name": "ipython",
    "version": 3
   },
   "file_extension": ".py",
   "mimetype": "text/x-python",
   "name": "python",
   "nbconvert_exporter": "python",
   "pygments_lexer": "ipython3",
   "version": "3.7.3"
  }
 },
 "nbformat": 4,
 "nbformat_minor": 2
}
